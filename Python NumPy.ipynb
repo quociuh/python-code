{
 "cells": [
  {
   "cell_type": "code",
   "execution_count": 1,
   "metadata": {},
   "outputs": [
    {
     "name": "stdout",
     "output_type": "stream",
     "text": [
      "[1 2 3]\n"
     ]
    }
   ],
   "source": [
    "import numpy as np\n",
    "\n",
    "# Create a 1D array\n",
    "\n",
    "arr1 = np.array([1,2,3]) # [0,1,2] or [-3,-2,-1]\n",
    "\n",
    "print(arr1)"
   ]
  },
  {
   "cell_type": "code",
   "execution_count": 2,
   "metadata": {},
   "outputs": [
    {
     "name": "stdout",
     "output_type": "stream",
     "text": [
      "<class 'numpy.ndarray'>\n"
     ]
    }
   ],
   "source": [
    "# check the array\n",
    "\n",
    "print(type(arr1))"
   ]
  },
  {
   "cell_type": "code",
   "execution_count": 3,
   "metadata": {},
   "outputs": [
    {
     "name": "stdout",
     "output_type": "stream",
     "text": [
      "(3,)\n"
     ]
    }
   ],
   "source": [
    "# Check the shape of the array\n",
    "\n",
    "print(arr1.shape)"
   ]
  },
  {
   "cell_type": "code",
   "execution_count": 4,
   "metadata": {},
   "outputs": [
    {
     "data": {
      "text/plain": [
       "3"
      ]
     },
     "execution_count": 4,
     "metadata": {},
     "output_type": "execute_result"
    }
   ],
   "source": [
    "# accessing elements from the array\n",
    "\n",
    "arr1[2]"
   ]
  },
  {
   "cell_type": "code",
   "execution_count": 5,
   "metadata": {},
   "outputs": [],
   "source": [
    "# Change an element from the array\n",
    "\n",
    "arr1[2]= 5"
   ]
  },
  {
   "cell_type": "code",
   "execution_count": 6,
   "metadata": {},
   "outputs": [
    {
     "data": {
      "text/plain": [
       "array([1, 2, 5])"
      ]
     },
     "execution_count": 6,
     "metadata": {},
     "output_type": "execute_result"
    }
   ],
   "source": [
    "arr1"
   ]
  },
  {
   "cell_type": "code",
   "execution_count": 7,
   "metadata": {},
   "outputs": [
    {
     "name": "stdout",
     "output_type": "stream",
     "text": [
      "[[1 2 3]\n",
      " [4 5 6]]\n"
     ]
    }
   ],
   "source": [
    "# Create a 2D array\n",
    "\n",
    "arr2 = np.array([[1,2,3], [4,5,6]])\n",
    "print(arr2)"
   ]
  },
  {
   "cell_type": "code",
   "execution_count": 8,
   "metadata": {},
   "outputs": [
    {
     "name": "stdout",
     "output_type": "stream",
     "text": [
      "The shape is 2 rows and 3 columns: (2, 3)\n"
     ]
    }
   ],
   "source": [
    "# Check the shape of the array\n",
    "\n",
    "print(\"The shape is 2 rows and 3 columns:\", arr2.shape)"
   ]
  },
  {
   "cell_type": "code",
   "execution_count": 9,
   "metadata": {},
   "outputs": [
    {
     "data": {
      "text/plain": [
       "3"
      ]
     },
     "execution_count": 9,
     "metadata": {},
     "output_type": "execute_result"
    }
   ],
   "source": [
    "# Accessing elements from the array\n",
    "\n",
    "arr2[0][2]"
   ]
  },
  {
   "cell_type": "code",
   "execution_count": 10,
   "metadata": {},
   "outputs": [
    {
     "data": {
      "text/plain": [
       "3"
      ]
     },
     "execution_count": 10,
     "metadata": {},
     "output_type": "execute_result"
    }
   ],
   "source": [
    "arr2[0,2]"
   ]
  },
  {
   "cell_type": "code",
   "execution_count": 11,
   "metadata": {},
   "outputs": [
    {
     "data": {
      "text/plain": [
       "2"
      ]
     },
     "execution_count": 11,
     "metadata": {},
     "output_type": "execute_result"
    }
   ],
   "source": [
    "arr2[0,-2]"
   ]
  },
  {
   "cell_type": "code",
   "execution_count": 12,
   "metadata": {},
   "outputs": [
    {
     "data": {
      "text/plain": [
       "3"
      ]
     },
     "execution_count": 12,
     "metadata": {},
     "output_type": "execute_result"
    }
   ],
   "source": [
    "arr2[0,-1]"
   ]
  },
  {
   "cell_type": "code",
   "execution_count": 13,
   "metadata": {},
   "outputs": [
    {
     "data": {
      "text/plain": [
       "4"
      ]
     },
     "execution_count": 13,
     "metadata": {},
     "output_type": "execute_result"
    }
   ],
   "source": [
    "arr2[-1, 0]"
   ]
  },
  {
   "cell_type": "code",
   "execution_count": 14,
   "metadata": {},
   "outputs": [
    {
     "name": "stdout",
     "output_type": "stream",
     "text": [
      "['Nguyễn' 'Quang' 'Quốc' '']\n"
     ]
    }
   ],
   "source": [
    "# Array of type string\n",
    "\n",
    "arr3 = np.array(['Nguyễn', 'Quang', 'Quốc' , ''])\n",
    "print(arr3)"
   ]
  },
  {
   "cell_type": "code",
   "execution_count": 15,
   "metadata": {},
   "outputs": [
    {
     "data": {
      "text/plain": [
       "'Nguyễn'"
      ]
     },
     "execution_count": 15,
     "metadata": {},
     "output_type": "execute_result"
    }
   ],
   "source": [
    "arr3[0]"
   ]
  },
  {
   "cell_type": "code",
   "execution_count": 16,
   "metadata": {},
   "outputs": [
    {
     "name": "stdout",
     "output_type": "stream",
     "text": [
      "[ 0  2  4  6  8 10 12 14 16 18]\n"
     ]
    }
   ],
   "source": [
    "# Array of evenly spaced values within a specified interval\n",
    "\n",
    "arr = np.arange(0, 20, 2)\n",
    "print(arr)"
   ]
  },
  {
   "cell_type": "code",
   "execution_count": 17,
   "metadata": {},
   "outputs": [
    {
     "name": "stdout",
     "output_type": "stream",
     "text": [
      "[ 0.          0.52631579  1.05263158  1.57894737  2.10526316  2.63157895\n",
      "  3.15789474  3.68421053  4.21052632  4.73684211  5.26315789  5.78947368\n",
      "  6.31578947  6.84210526  7.36842105  7.89473684  8.42105263  8.94736842\n",
      "  9.47368421 10.        ]\n"
     ]
    }
   ],
   "source": [
    "# Array of evenly spaced number in a specified interval\n",
    "\n",
    "arr = np.linspace(0, 10, 20)\n",
    "print(arr)"
   ]
  },
  {
   "cell_type": "code",
   "execution_count": 18,
   "metadata": {},
   "outputs": [
    {
     "name": "stdout",
     "output_type": "stream",
     "text": [
      "[0.6075778  0.60802832 0.26273931 0.11703406 0.73550116 0.36710199\n",
      " 0.40506395 0.16200976 0.34895495 0.61997046]\n",
      "\n",
      "\n",
      "[[0.21559377 0.20315492 0.37677799 0.7542783 ]\n",
      " [0.75779045 0.38391252 0.81677467 0.45279459]\n",
      " [0.6899188  0.75438306 0.52499409 0.30289627]]\n"
     ]
    }
   ],
   "source": [
    "# Array of random values between 0 and 1 in a given shape\n",
    "\n",
    "arr = np.random.rand(10)\n",
    "print(arr)\n",
    "print('\\n')\n",
    "arr = np.random.rand(3,4)\n",
    "print(arr)"
   ]
  },
  {
   "cell_type": "code",
   "execution_count": 19,
   "metadata": {},
   "outputs": [
    {
     "name": "stdout",
     "output_type": "stream",
     "text": [
      "[0. 0. 0. 0. 0. 0. 0. 0. 0. 0.]\n",
      "\n",
      "\n",
      "[[0. 0. 0.]\n",
      " [0. 0. 0.]]\n"
     ]
    }
   ],
   "source": [
    "# Array of zeros\n",
    "\n",
    "print(np.zeros(10))\n",
    "print('\\n')\n",
    "print(np.zeros((2,3)))"
   ]
  },
  {
   "cell_type": "code",
   "execution_count": 20,
   "metadata": {},
   "outputs": [
    {
     "name": "stdout",
     "output_type": "stream",
     "text": [
      "[[1. 1. 1. 1.]\n",
      " [1. 1. 1. 1.]\n",
      " [1. 1. 1. 1.]]\n"
     ]
    }
   ],
   "source": [
    "print(np.ones((3,4)))"
   ]
  },
  {
   "cell_type": "code",
   "execution_count": 21,
   "metadata": {},
   "outputs": [
    {
     "name": "stdout",
     "output_type": "stream",
     "text": [
      "[[10 10 10 10 10 10]\n",
      " [10 10 10 10 10 10]\n",
      " [10 10 10 10 10 10]\n",
      " [10 10 10 10 10 10]]\n"
     ]
    }
   ],
   "source": [
    "# Array of constant values in a given shape\n",
    "\n",
    "print(np.full((4,6),10))"
   ]
  },
  {
   "cell_type": "code",
   "execution_count": 22,
   "metadata": {},
   "outputs": [
    {
     "name": "stdout",
     "output_type": "stream",
     "text": [
      "[0 0 0 1 1 1 2 2 2]\n"
     ]
    }
   ],
   "source": [
    "# Create an array by repetition\n",
    "# epeat each element of an array by a specified number of times\n",
    "\n",
    "arr = [0, 1, 2]\n",
    "print(np.repeat(arr, 3)) "
   ]
  },
  {
   "cell_type": "code",
   "execution_count": 23,
   "metadata": {},
   "outputs": [
    {
     "name": "stdout",
     "output_type": "stream",
     "text": [
      "[0 1 2 0 1 2 0 1 2]\n"
     ]
    }
   ],
   "source": [
    "# Repeat an array by a specified number of times\n",
    "\n",
    "arr = [0, 1, 2]\n",
    "print(np.tile(arr, 3))"
   ]
  },
  {
   "cell_type": "code",
   "execution_count": 24,
   "metadata": {},
   "outputs": [
    {
     "name": "stdout",
     "output_type": "stream",
     "text": [
      "[[1. 0. 0.]\n",
      " [0. 1. 0.]\n",
      " [0. 0. 1.]]\n"
     ]
    }
   ],
   "source": [
    "# Create an idenity matrix\n",
    "\n",
    "identity_matrix = np.eye(3)\n",
    "print(identity_matrix)"
   ]
  },
  {
   "cell_type": "code",
   "execution_count": 25,
   "metadata": {},
   "outputs": [
    {
     "name": "stdout",
     "output_type": "stream",
     "text": [
      "[[1. 0. 0.]\n",
      " [0. 1. 0.]\n",
      " [0. 0. 1.]]\n"
     ]
    }
   ],
   "source": [
    "identity_matrix = np.identity(3)\n",
    "print(identity_matrix)"
   ]
  },
  {
   "cell_type": "code",
   "execution_count": 26,
   "metadata": {},
   "outputs": [
    {
     "name": "stdout",
     "output_type": "stream",
     "text": [
      "[[1 0 0 0 0]\n",
      " [0 2 0 0 0]\n",
      " [0 0 3 0 0]\n",
      " [0 0 0 4 0]\n",
      " [0 0 0 0 5]]\n"
     ]
    }
   ],
   "source": [
    "# Create a matrix with a specified diagonal array\n",
    "\n",
    "arr = np.diag([1,2,3,4,5])\n",
    "print(arr)"
   ]
  },
  {
   "cell_type": "code",
   "execution_count": 27,
   "metadata": {},
   "outputs": [
    {
     "name": "stdout",
     "output_type": "stream",
     "text": [
      "[[0.36939982 0.51247229 0.96500001 0.30597415 0.10851258]\n",
      " [0.95632129 0.04417551 0.84592568 0.1520066  0.77888084]\n",
      " [0.58158985 0.68459433 0.13609565 0.8511712  0.69290103]\n",
      " [0.8496995  0.04039759 0.1952327  0.97580702 0.14361559]\n",
      " [0.39752498 0.96686542 0.90051562 0.95215937 0.40403817]]\n"
     ]
    }
   ],
   "source": [
    "arr = np.random.rand(5,5)\n",
    "print(arr)"
   ]
  },
  {
   "cell_type": "code",
   "execution_count": 28,
   "metadata": {},
   "outputs": [
    {
     "name": "stdout",
     "output_type": "stream",
     "text": [
      "[0.36939982 0.04417551 0.13609565 0.97580702 0.40403817]\n"
     ]
    }
   ],
   "source": [
    "# Extract the diagonal elements in the array\n",
    "print(np.diag(arr))"
   ]
  },
  {
   "cell_type": "code",
   "execution_count": 29,
   "metadata": {},
   "outputs": [
    {
     "name": "stdout",
     "output_type": "stream",
     "text": [
      "5\n"
     ]
    }
   ],
   "source": [
    "# Display the length of the array\n",
    "print(len(arr))"
   ]
  },
  {
   "cell_type": "code",
   "execution_count": 30,
   "metadata": {},
   "outputs": [
    {
     "name": "stdout",
     "output_type": "stream",
     "text": [
      "2\n"
     ]
    }
   ],
   "source": [
    "# Display the dimension of the array\n",
    "print(arr.ndim)"
   ]
  },
  {
   "cell_type": "code",
   "execution_count": 31,
   "metadata": {},
   "outputs": [
    {
     "name": "stdout",
     "output_type": "stream",
     "text": [
      "25\n"
     ]
    }
   ],
   "source": [
    "# Display the size of the elements\n",
    "print(arr.size)"
   ]
  },
  {
   "cell_type": "code",
   "execution_count": 32,
   "metadata": {},
   "outputs": [
    {
     "name": "stdout",
     "output_type": "stream",
     "text": [
      "[-10  -6  -8   8]\n"
     ]
    }
   ],
   "source": [
    "# print 4 random integers\n",
    "\n",
    "print(np.random.randint(-10, 10, 4))"
   ]
  },
  {
   "cell_type": "code",
   "execution_count": 33,
   "metadata": {},
   "outputs": [
    {
     "name": "stdout",
     "output_type": "stream",
     "text": [
      "[[10.36939982 10.51247229 10.96500001 10.30597415 10.10851258]\n",
      " [10.95632129 10.04417551 10.84592568 10.1520066  10.77888084]\n",
      " [10.58158985 10.68459433 10.13609565 10.8511712  10.69290103]\n",
      " [10.8496995  10.04039759 10.1952327  10.97580702 10.14361559]\n",
      " [10.39752498 10.96686542 10.90051562 10.95215937 10.40403817]]\n",
      "\n",
      "\n",
      "[[-9.63060018 -9.48752771 -9.03499999 -9.69402585 -9.89148742]\n",
      " [-9.04367871 -9.95582449 -9.15407432 -9.8479934  -9.22111916]\n",
      " [-9.41841015 -9.31540567 -9.86390435 -9.1488288  -9.30709897]\n",
      " [-9.1503005  -9.95960241 -9.8047673  -9.02419298 -9.85638441]\n",
      " [-9.60247502 -9.03313458 -9.09948438 -9.04784063 -9.59596183]]\n",
      "\n",
      "\n",
      "[[3.69399815 5.12472288 9.6500001  3.05974148 1.0851258 ]\n",
      " [9.56321289 0.44175514 8.45925677 1.52006595 7.78880842]\n",
      " [5.81589846 6.84594329 1.36095654 8.511712   6.92901031]\n",
      " [8.49699502 0.4039759  1.95232701 9.75807017 1.43615587]\n",
      " [3.97524979 9.66865419 9.00515616 9.52159372 4.04038171]]\n",
      "\n",
      "\n",
      "[[0.03693998 0.05124723 0.0965     0.03059741 0.01085126]\n",
      " [0.09563213 0.00441755 0.08459257 0.01520066 0.07788808]\n",
      " [0.05815898 0.06845943 0.01360957 0.08511712 0.0692901 ]\n",
      " [0.08496995 0.00403976 0.01952327 0.0975807  0.01436156]\n",
      " [0.0397525  0.09668654 0.09005156 0.09521594 0.04040382]]\n"
     ]
    }
   ],
   "source": [
    "# Mathematical operations\n",
    "\n",
    "print(arr + 10)\n",
    "print('\\n')\n",
    "print(arr - 10)\n",
    "print('\\n')\n",
    "print(arr * 10)\n",
    "print('\\n')\n",
    "print(arr / 10)"
   ]
  },
  {
   "cell_type": "code",
   "execution_count": 34,
   "metadata": {},
   "outputs": [
    {
     "name": "stdout",
     "output_type": "stream",
     "text": [
      "[[1.44686597 1.66941337 2.62478768 1.3579472  1.11461893]\n",
      " [2.60210645 1.04516578 2.33013377 1.16416791 2.17903222]\n",
      " [1.78888022 1.98296724 1.14579149 2.34238865 1.99950776]\n",
      " [2.3389439  1.04122467 1.21559382 2.65330761 1.15444024]\n",
      " [1.48813697 2.62968855 2.46087165 2.5912992  1.49786112]]\n"
     ]
    }
   ],
   "source": [
    "# Exponentiation\n",
    "\n",
    "print(np.exp(arr))"
   ]
  },
  {
   "cell_type": "code",
   "execution_count": 35,
   "metadata": {},
   "outputs": [
    {
     "name": "stdout",
     "output_type": "stream",
     "text": [
      "[[-0.99587571 -0.66850864 -0.03562717 -1.18425466 -2.22088917]\n",
      " [-0.04466135 -3.11958462 -0.16732378 -1.88383137 -0.24989721]\n",
      " [-0.54198981 -0.37892884 -1.9943973  -0.161142   -0.3668681 ]\n",
      " [-0.16287252 -3.20898515 -1.63356309 -0.02449044 -1.94061508]\n",
      " [-0.92249751 -0.03369597 -0.10478777 -0.04902285 -0.90624592]]\n"
     ]
    }
   ],
   "source": [
    "# Natural logarithm\n",
    "\n",
    "print(np.log(arr))"
   ]
  },
  {
   "cell_type": "code",
   "execution_count": 36,
   "metadata": {},
   "outputs": [
    {
     "name": "stdout",
     "output_type": "stream",
     "text": [
      "[[-1.43674495 -0.9644541  -0.05139914 -1.70851833 -3.20406579]\n",
      " [-0.0644327  -4.50060927 -0.24139718 -2.71779417 -0.36052546]\n",
      " [-0.78192601 -0.54667875 -2.87730709 -0.23247876 -0.52927879]\n",
      " [-0.23497538 -4.62958696 -2.35673337 -0.03533224 -2.79971576]\n",
      " [-1.33088258 -0.048613   -0.1511768  -0.07072502 -1.3074365 ]]\n"
     ]
    }
   ],
   "source": [
    "# Base 2 logarithm\n",
    "\n",
    "print(np.log2(arr))"
   ]
  },
  {
   "cell_type": "code",
   "execution_count": 37,
   "metadata": {},
   "outputs": [
    {
     "name": "stdout",
     "output_type": "stream",
     "text": [
      "[[-0.43250333 -0.29032961 -0.01547268 -0.51431527 -0.96451991]\n",
      " [-0.01939618 -1.35481839 -0.07266779 -0.81813757 -0.10852898]\n",
      " [-0.23538318 -0.1645667  -0.86615574 -0.06998308 -0.15932879]\n",
      " [-0.07073464 -1.39364454 -0.70944744 -0.01063606 -0.84279842]\n",
      " [-0.40063558 -0.01463397 -0.04550875 -0.02129035 -0.3935776 ]]\n"
     ]
    }
   ],
   "source": [
    "# Base 10 logarithm\n",
    "\n",
    "print(np.log10(arr))"
   ]
  },
  {
   "cell_type": "code",
   "execution_count": 38,
   "metadata": {},
   "outputs": [
    {
     "name": "stdout",
     "output_type": "stream",
     "text": [
      "[[0.3610558  0.49033343 0.82204892 0.30122222 0.10829975]\n",
      " [0.81707622 0.04416115 0.74858519 0.15142189 0.70248335]\n",
      " [0.54935309 0.6323588  0.13567592 0.75205286 0.63877191]\n",
      " [0.75108205 0.0403866  0.19399482 0.82815449 0.14312241]\n",
      " [0.38713751 0.82310969 0.78364732 0.81466968 0.39313456]]\n"
     ]
    }
   ],
   "source": [
    "# sin function\n",
    "\n",
    "print(np.sin(arr))"
   ]
  },
  {
   "cell_type": "code",
   "execution_count": 39,
   "metadata": {},
   "outputs": [
    {
     "name": "stdout",
     "output_type": "stream",
     "text": [
      "-0.8011526357338304\n"
     ]
    }
   ],
   "source": [
    "print(np.sin(180))"
   ]
  },
  {
   "cell_type": "code",
   "execution_count": 40,
   "metadata": {},
   "outputs": [
    {
     "name": "stdout",
     "output_type": "stream",
     "text": [
      "0.0\n"
     ]
    }
   ],
   "source": [
    "print(np.sin(0))"
   ]
  },
  {
   "cell_type": "code",
   "execution_count": 41,
   "metadata": {},
   "outputs": [
    {
     "name": "stdout",
     "output_type": "stream",
     "text": [
      "[[0.93254421 0.87153493 0.56941687 0.95355397 0.99411828]\n",
      " [0.57652967 0.99902442 0.66303862 0.98846923 0.71170017]\n",
      " [0.83559032 0.77467564 0.99075327 0.65910279 0.76939616]\n",
      " [0.66020887 0.99918413 0.98100255 0.5604999  0.98970499]\n",
      " [0.92202199 0.56788242 0.62120599 0.57992527 0.91948095]]\n"
     ]
    }
   ],
   "source": [
    "# cos function\n",
    "\n",
    "print(np.cos(arr))"
   ]
  },
  {
   "cell_type": "code",
   "execution_count": 42,
   "metadata": {},
   "outputs": [
    {
     "name": "stdout",
     "output_type": "stream",
     "text": [
      "[[0.36939982 0.51247229 0.96500001 0.30597415 0.10851258]\n",
      " [0.95632129 0.04417551 0.84592568 0.1520066  0.77888084]\n",
      " [0.58158985 0.68459433 0.13609565 0.8511712  0.69290103]\n",
      " [0.8496995  0.04039759 0.1952327  0.97580702 0.14361559]\n",
      " [0.39752498 0.96686542 0.90051562 0.95215937 0.40403817]]\n"
     ]
    }
   ],
   "source": [
    "print(arr)"
   ]
  },
  {
   "cell_type": "code",
   "execution_count": 43,
   "metadata": {},
   "outputs": [
    {
     "name": "stdout",
     "output_type": "stream",
     "text": [
      "[3.15453543 2.24850514 3.04276966 3.23711833 2.12794821]\n"
     ]
    }
   ],
   "source": [
    "# sum along the row\n",
    "print(np.sum(arr, axis=0))"
   ]
  },
  {
   "cell_type": "code",
   "execution_count": 44,
   "metadata": {},
   "outputs": [
    {
     "name": "stdout",
     "output_type": "stream",
     "text": [
      "[2.26135884 2.77730992 2.94635206 2.2047524  3.62110356]\n"
     ]
    }
   ],
   "source": [
    "# sum along the column\n",
    "print(np.sum(arr, axis=1))"
   ]
  },
  {
   "cell_type": "code",
   "execution_count": 45,
   "metadata": {},
   "outputs": [
    {
     "name": "stdout",
     "output_type": "stream",
     "text": [
      "0.04039759004124954\n"
     ]
    }
   ],
   "source": [
    "# minimum item value along the row\n",
    "print(np.min(arr))"
   ]
  },
  {
   "cell_type": "code",
   "execution_count": 46,
   "metadata": {},
   "outputs": [
    {
     "name": "stdout",
     "output_type": "stream",
     "text": [
      "0.9758070173565323\n"
     ]
    }
   ],
   "source": [
    "print(np.max(arr))"
   ]
  },
  {
   "cell_type": "code",
   "execution_count": 47,
   "metadata": {},
   "outputs": [
    {
     "name": "stdout",
     "output_type": "stream",
     "text": [
      "0.5524350709365271\n"
     ]
    }
   ],
   "source": [
    "# calculate the overall mean\n",
    "\n",
    "print(np.mean(arr))"
   ]
  },
  {
   "cell_type": "code",
   "execution_count": 48,
   "metadata": {},
   "outputs": [
    {
     "name": "stdout",
     "output_type": "stream",
     "text": [
      "[0.63090709 0.44970103 0.60855393 0.64742367 0.42558964]\n"
     ]
    }
   ],
   "source": [
    "# calculate the mean along the row\n",
    "\n",
    "print(np.mean(arr, axis=0))"
   ]
  },
  {
   "cell_type": "code",
   "execution_count": 49,
   "metadata": {},
   "outputs": [
    {
     "name": "stdout",
     "output_type": "stream",
     "text": [
      "0.5815898464482628\n"
     ]
    }
   ],
   "source": [
    "# calculate the median\n",
    "print(np.median(arr))"
   ]
  },
  {
   "cell_type": "code",
   "execution_count": 50,
   "metadata": {},
   "outputs": [
    {
     "name": "stdout",
     "output_type": "stream",
     "text": [
      "0.3350335391985332\n"
     ]
    }
   ],
   "source": [
    "# calculate the standard deviation\n",
    "print(np.std(arr))"
   ]
  },
  {
   "cell_type": "code",
   "execution_count": 51,
   "metadata": {},
   "outputs": [
    {
     "name": "stdout",
     "output_type": "stream",
     "text": [
      "0.11224747238789506\n"
     ]
    }
   ],
   "source": [
    "# calculate the variance\n",
    "print(np.var(arr))"
   ]
  },
  {
   "cell_type": "code",
   "execution_count": 52,
   "metadata": {},
   "outputs": [
    {
     "name": "stdout",
     "output_type": "stream",
     "text": [
      "[[0.36939982 0.51247229 0.96500001 0.30597415 0.10851258]\n",
      " [0.95632129 0.04417551 0.84592568 0.1520066  0.77888084]\n",
      " [0.58158985 0.68459433 0.13609565 0.8511712  0.69290103]\n",
      " [0.8496995  0.04039759 0.1952327  0.97580702 0.14361559]\n",
      " [0.39752498 0.96686542 0.90051562 0.95215937 0.40403817]]\n",
      "\n",
      "\n",
      "[[0.84592568 0.1520066  0.77888084]\n",
      " [0.13609565 0.8511712  0.69290103]]\n"
     ]
    }
   ],
   "source": [
    "print(arr)\n",
    "print('\\n')\n",
    "print(arr[1:3, 2:5])"
   ]
  },
  {
   "cell_type": "code",
   "execution_count": 53,
   "metadata": {},
   "outputs": [
    {
     "name": "stdout",
     "output_type": "stream",
     "text": [
      "[[0.52337453 0.60020934 0.09733735 0.30933314 0.24304355]\n",
      " [0.35399133 0.50536304 0.32834841 0.48640425 0.60158642]\n",
      " [0.51970482 0.1699288  0.1083325  0.82894957 0.35413119]\n",
      " [0.86157299 0.73488587 0.77208851 0.61228507 0.01434011]\n",
      " [0.73369164 0.4044715  0.30011023 0.58847782 0.44538287]]\n"
     ]
    }
   ],
   "source": [
    "# Sort an array\n",
    "arr = np.random.rand(5,5)\n",
    "print(arr)"
   ]
  },
  {
   "cell_type": "code",
   "execution_count": 54,
   "metadata": {},
   "outputs": [
    {
     "name": "stdout",
     "output_type": "stream",
     "text": [
      "[[0.09733735 0.24304355 0.30933314 0.52337453 0.60020934]\n",
      " [0.32834841 0.35399133 0.48640425 0.50536304 0.60158642]\n",
      " [0.1083325  0.1699288  0.35413119 0.51970482 0.82894957]\n",
      " [0.01434011 0.61228507 0.73488587 0.77208851 0.86157299]\n",
      " [0.30011023 0.4044715  0.44538287 0.58847782 0.73369164]]\n"
     ]
    }
   ],
   "source": [
    "# sort along the column\n",
    "\n",
    "print(np.sort(arr, axis=1))"
   ]
  },
  {
   "cell_type": "code",
   "execution_count": 55,
   "metadata": {},
   "outputs": [
    {
     "name": "stdout",
     "output_type": "stream",
     "text": [
      "[[0.52337453 0.60020934 0.09733735 0.30933314 0.24304355]\n",
      " [0.35399133 0.50536304 0.32834841 0.48640425 0.60158642]\n",
      " [0.51970482 0.1699288  0.1083325  0.82894957 0.35413119]\n",
      " [0.86157299 0.73488587 0.77208851 0.61228507 0.01434011]\n",
      " [0.73369164 0.4044715  0.30011023 0.58847782 0.44538287]]\n",
      "\n",
      "\n",
      "[[0.52337453 0.35399133 0.51970482 0.86157299 0.73369164]\n",
      " [0.60020934 0.50536304 0.1699288  0.73488587 0.4044715 ]\n",
      " [0.09733735 0.32834841 0.1083325  0.77208851 0.30011023]\n",
      " [0.30933314 0.48640425 0.82894957 0.61228507 0.58847782]\n",
      " [0.24304355 0.60158642 0.35413119 0.01434011 0.44538287]]\n"
     ]
    }
   ],
   "source": [
    "# Transpose an array\n",
    "print(arr)\n",
    "print('\\n')\n",
    "print(arr.T)"
   ]
  },
  {
   "cell_type": "code",
   "execution_count": 56,
   "metadata": {},
   "outputs": [
    {
     "name": "stdout",
     "output_type": "stream",
     "text": [
      "[[0.52337453 0.35399133 0.51970482 0.86157299 0.73369164]\n",
      " [0.60020934 0.50536304 0.1699288  0.73488587 0.4044715 ]\n",
      " [0.09733735 0.32834841 0.1083325  0.77208851 0.30011023]\n",
      " [0.30933314 0.48640425 0.82894957 0.61228507 0.58847782]\n",
      " [0.24304355 0.60158642 0.35413119 0.01434011 0.44538287]]\n"
     ]
    }
   ],
   "source": [
    "print(arr.transpose())"
   ]
  },
  {
   "cell_type": "code",
   "execution_count": 57,
   "metadata": {},
   "outputs": [
    {
     "name": "stdout",
     "output_type": "stream",
     "text": [
      "[[0.52337453 0.60020934 0.09733735 0.30933314 0.24304355]\n",
      " [0.35399133 0.50536304 0.32834841 0.48640425 0.60158642]\n",
      " [0.51970482 0.1699288  0.1083325  0.82894957 0.35413119]\n",
      " [0.86157299 0.73488587 0.77208851 0.61228507 0.01434011]\n",
      " [0.73369164 0.4044715  0.30011023 0.58847782 0.44538287]]\n",
      "\n",
      "\n",
      "[0.52337453 0.60020934 0.09733735 0.30933314 0.24304355 0.35399133\n",
      " 0.50536304 0.32834841 0.48640425 0.60158642 0.51970482 0.1699288\n",
      " 0.1083325  0.82894957 0.35413119 0.86157299 0.73488587 0.77208851\n",
      " 0.61228507 0.01434011 0.73369164 0.4044715  0.30011023 0.58847782\n",
      " 0.44538287]\n"
     ]
    }
   ],
   "source": [
    "# Flatten the 2D array\n",
    "\n",
    "print(arr)\n",
    "print('\\n')\n",
    "print(arr.flatten())"
   ]
  },
  {
   "cell_type": "code",
   "execution_count": 58,
   "metadata": {},
   "outputs": [],
   "source": [
    "# Append elements to an array\n",
    "\n",
    "arr = np.array([4,5,6,7])"
   ]
  },
  {
   "cell_type": "code",
   "execution_count": 59,
   "metadata": {},
   "outputs": [
    {
     "data": {
      "text/plain": [
       "array([4, 5, 6, 7, 8])"
      ]
     },
     "execution_count": 59,
     "metadata": {},
     "output_type": "execute_result"
    }
   ],
   "source": [
    "arr1 = np.append(arr, 8)\n",
    "arr1"
   ]
  },
  {
   "cell_type": "code",
   "execution_count": 60,
   "metadata": {},
   "outputs": [
    {
     "name": "stdout",
     "output_type": "stream",
     "text": [
      "[ 4  5  6  7  9 10 11]\n"
     ]
    }
   ],
   "source": [
    "arr2 = np.append(arr, [9,10,11])\n",
    "print(arr2)"
   ]
  },
  {
   "cell_type": "code",
   "execution_count": 61,
   "metadata": {},
   "outputs": [
    {
     "name": "stdout",
     "output_type": "stream",
     "text": [
      "[12 13 14  4  5  6  7]\n"
     ]
    }
   ],
   "source": [
    "# Insert elements to an array\n",
    "\n",
    "arr3 = np.insert(arr, 0, [12,13,14])\n",
    "print(arr3)"
   ]
  },
  {
   "cell_type": "code",
   "execution_count": 62,
   "metadata": {},
   "outputs": [
    {
     "name": "stdout",
     "output_type": "stream",
     "text": [
      "[4 5 6 7]\n",
      "\n",
      "\n",
      "[5 6 7]\n"
     ]
    }
   ],
   "source": [
    "# Remove elements from an array\n",
    "\n",
    "print(arr)\n",
    "print('\\n')\n",
    "arr4 = np.delete(arr, 0)\n",
    "print(arr4)"
   ]
  },
  {
   "cell_type": "code",
   "execution_count": 63,
   "metadata": {},
   "outputs": [
    {
     "name": "stdout",
     "output_type": "stream",
     "text": [
      "[ 4  5  6  7  9 10 11]\n",
      "\n",
      "\n",
      "[ 4  6  7 10 11]\n"
     ]
    }
   ],
   "source": [
    "# Delete multiple elements\n",
    "\n",
    "print(arr2)\n",
    "print('\\n')\n",
    "arr5 = np.delete(arr2, [1,4])\n",
    "print(arr5)"
   ]
  },
  {
   "cell_type": "code",
   "execution_count": 64,
   "metadata": {},
   "outputs": [
    {
     "data": {
      "text/plain": [
       "array([10, 13, 16, 19, 22, 25, 28, 31, 34, 37])"
      ]
     },
     "execution_count": 64,
     "metadata": {},
     "output_type": "execute_result"
    }
   ],
   "source": [
    "# Copy elements from an array\n",
    "\n",
    "arr1 = np.arange(10, 40, 3)\n",
    "arr1"
   ]
  },
  {
   "cell_type": "code",
   "execution_count": 65,
   "metadata": {},
   "outputs": [
    {
     "data": {
      "text/plain": [
       "array([10, 13, 16, 19, 22, 25, 28, 31, 34, 37])"
      ]
     },
     "execution_count": 65,
     "metadata": {},
     "output_type": "execute_result"
    }
   ],
   "source": [
    "arr_copy = np.copy(arr1)\n",
    "arr_copy"
   ]
  },
  {
   "cell_type": "code",
   "execution_count": 66,
   "metadata": {},
   "outputs": [
    {
     "name": "stdout",
     "output_type": "stream",
     "text": [
      "[10 13 16 19 22 25 28 31 34 37]\n"
     ]
    }
   ],
   "source": [
    "arr_copy = arr1.copy()\n",
    "print(arr_copy)"
   ]
  },
  {
   "cell_type": "code",
   "execution_count": 67,
   "metadata": {},
   "outputs": [],
   "source": [
    "# Combine and split an array\n",
    "\n",
    "arr1 = np.array([[1,2,3,4], [1,2,3,4]])\n",
    "arr2 = np.array([[5,6,7,8], [5,6,7,8]])"
   ]
  },
  {
   "cell_type": "code",
   "execution_count": 68,
   "metadata": {},
   "outputs": [
    {
     "name": "stdout",
     "output_type": "stream",
     "text": [
      "[[1 2 3 4]\n",
      " [1 2 3 4]\n",
      " [5 6 7 8]\n",
      " [5 6 7 8]]\n"
     ]
    }
   ],
   "source": [
    "# Combine the array items by row\n",
    "\n",
    "cat = np.concatenate((arr1,arr2), axis=0)\n",
    "print(cat)"
   ]
  },
  {
   "cell_type": "code",
   "execution_count": 69,
   "metadata": {},
   "outputs": [
    {
     "name": "stdout",
     "output_type": "stream",
     "text": [
      "[[1 2 3 4 5 6 7 8]\n",
      " [1 2 3 4 5 6 7 8]]\n"
     ]
    }
   ],
   "source": [
    "# Combine array items by column\n",
    "\n",
    "cat = np. concatenate((arr1, arr2), axis=1)\n",
    "print(cat)"
   ]
  },
  {
   "cell_type": "code",
   "execution_count": 70,
   "metadata": {},
   "outputs": [
    {
     "name": "stdout",
     "output_type": "stream",
     "text": [
      "[[1 2 3 4]\n",
      " [1 2 3 4]\n",
      " [5 6 7 8]\n",
      " [5 6 7 8]]\n"
     ]
    }
   ],
   "source": [
    "# stack arrays vertically\n",
    "cat = np.vstack((arr1, arr2))\n",
    "print(cat)"
   ]
  },
  {
   "cell_type": "code",
   "execution_count": 71,
   "metadata": {},
   "outputs": [
    {
     "name": "stdout",
     "output_type": "stream",
     "text": [
      "[[1 2 3 4 5 6 7 8]\n",
      " [1 2 3 4 5 6 7 8]]\n"
     ]
    }
   ],
   "source": [
    "# Stack arrays horizontally\n",
    "cat = np.hstack((arr1, arr2))\n",
    "print(cat)"
   ]
  },
  {
   "cell_type": "code",
   "execution_count": 72,
   "metadata": {},
   "outputs": [
    {
     "name": "stdout",
     "output_type": "stream",
     "text": [
      "[1 2 3 4 5 6]\n"
     ]
    }
   ],
   "source": [
    "# Set operations\n",
    "\n",
    "# Find elements from an array\n",
    "arr = np.array([1,2,3,4,5,6,3,6,1,2,4])\n",
    "print(np.unique(arr))"
   ]
  },
  {
   "cell_type": "code",
   "execution_count": 73,
   "metadata": {},
   "outputs": [
    {
     "name": "stdout",
     "output_type": "stream",
     "text": [
      "[1 2 3 4 5 6]\n",
      "[2 2 2 1 1 1]\n"
     ]
    }
   ],
   "source": [
    "# return the number of times each unique item appears\n",
    "arr = np.array([1,1,2,2,3,3,4,5,6])\n",
    "uniques, counts = np.unique(arr, return_counts=True)\n",
    "print(uniques)\n",
    "print(counts)"
   ]
  },
  {
   "cell_type": "code",
   "execution_count": 74,
   "metadata": {},
   "outputs": [],
   "source": [
    "# Intersection of 2 array elements\n",
    "\n",
    "arr1 = np.array([1,2,3,4,5])\n",
    "arr2 = np.array([3,4,5,6,7])"
   ]
  },
  {
   "cell_type": "code",
   "execution_count": 75,
   "metadata": {},
   "outputs": [
    {
     "name": "stdout",
     "output_type": "stream",
     "text": [
      "[3 4 5]\n"
     ]
    }
   ],
   "source": [
    "print(np.intersect1d(arr1, arr2))"
   ]
  },
  {
   "cell_type": "code",
   "execution_count": 76,
   "metadata": {},
   "outputs": [
    {
     "name": "stdout",
     "output_type": "stream",
     "text": [
      "[1 2 3 4 5 6 7]\n"
     ]
    }
   ],
   "source": [
    "# Union of 2 array elements\n",
    "\n",
    "print(np.union1d(arr1, arr2))"
   ]
  },
  {
   "cell_type": "code",
   "execution_count": 77,
   "metadata": {},
   "outputs": [
    {
     "name": "stdout",
     "output_type": "stream",
     "text": [
      "[1 2]\n",
      "[6 7]\n"
     ]
    }
   ],
   "source": [
    "# Elements present in first array but not in the second array\n",
    "print(np.setdiff1d(arr1, arr2))\n",
    "print(np.setdiff1d(arr2, arr1))"
   ]
  },
  {
   "cell_type": "code",
   "execution_count": 78,
   "metadata": {},
   "outputs": [
    {
     "name": "stdout",
     "output_type": "stream",
     "text": [
      "[1 2 6 7]\n"
     ]
    }
   ],
   "source": [
    "# Elements present in either of the arrays but not both\n",
    "\n",
    "print(np.setxor1d(arr1, arr2))"
   ]
  }
 ],
 "metadata": {
  "kernelspec": {
   "display_name": "Python 3 (ipykernel)",
   "language": "python",
   "name": "python3"
  },
  "language_info": {
   "codemirror_mode": {
    "name": "ipython",
    "version": 3
   },
   "file_extension": ".py",
   "mimetype": "text/x-python",
   "name": "python",
   "nbconvert_exporter": "python",
   "pygments_lexer": "ipython3",
   "version": "3.9.12"
  }
 },
 "nbformat": 4,
 "nbformat_minor": 2
}
